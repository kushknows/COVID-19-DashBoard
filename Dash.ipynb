{
 "cells": [
  {
   "cell_type": "code",
   "execution_count": 1,
   "metadata": {},
   "outputs": [],
   "source": [
    "import dash\n",
    "import dash_core_components as dcc\n",
    "import dash_html_components as html\n",
    "import plotly.graph_objects as go\n",
    "from dash.dependencies import Input, Output\n",
    "import pandas as pd\n",
    "import dash_table"
   ]
  },
  {
   "cell_type": "markdown",
   "metadata": {},
   "source": [
    "## Link for Data Extraction(COVID-19 Confirmed cases) from github and might be changed or get updated"
   ]
  },
  {
   "cell_type": "code",
   "execution_count": 12,
   "metadata": {},
   "outputs": [],
   "source": [
    "import pandas as pd\n",
    "url = 'https://raw.githubusercontent.com/jmcastagnetto/covid-19-data-cleanup/master/data/covid-19_ts_confirmed.csv.gz'\n",
    "data = pd.read_csv(url, error_bad_lines=False)"
   ]
  },
  {
   "cell_type": "code",
   "execution_count": 13,
   "metadata": {},
   "outputs": [
    {
     "data": {
      "text/html": [
       "<div>\n",
       "<style scoped>\n",
       "    .dataframe tbody tr th:only-of-type {\n",
       "        vertical-align: middle;\n",
       "    }\n",
       "\n",
       "    .dataframe tbody tr th {\n",
       "        vertical-align: top;\n",
       "    }\n",
       "\n",
       "    .dataframe thead th {\n",
       "        text-align: right;\n",
       "    }\n",
       "</style>\n",
       "<table border=\"1\" class=\"dataframe\">\n",
       "  <thead>\n",
       "    <tr style=\"text-align: right;\">\n",
       "      <th></th>\n",
       "      <th>continent</th>\n",
       "      <th>iso3c</th>\n",
       "      <th>country_region</th>\n",
       "      <th>province_state</th>\n",
       "      <th>lat</th>\n",
       "      <th>lon</th>\n",
       "      <th>ts</th>\n",
       "      <th>confirmed</th>\n",
       "      <th>who_region_code</th>\n",
       "      <th>who_region</th>\n",
       "      <th>world_bank_income_group</th>\n",
       "      <th>world_bank_income_group_code</th>\n",
       "      <th>world_bank_income_group_gni_reference_year</th>\n",
       "      <th>world_bank_income_group_release_date</th>\n",
       "    </tr>\n",
       "  </thead>\n",
       "  <tbody>\n",
       "    <tr>\n",
       "      <td>0</td>\n",
       "      <td>Asia</td>\n",
       "      <td>AFG</td>\n",
       "      <td>Afghanistan</td>\n",
       "      <td>NaN</td>\n",
       "      <td>33.0</td>\n",
       "      <td>65.0</td>\n",
       "      <td>2020-01-22</td>\n",
       "      <td>0</td>\n",
       "      <td>EMR</td>\n",
       "      <td>Eastern Mediterranean</td>\n",
       "      <td>Low income</td>\n",
       "      <td>WB_LI</td>\n",
       "      <td>2017.0</td>\n",
       "      <td>2018.0</td>\n",
       "    </tr>\n",
       "    <tr>\n",
       "      <td>1</td>\n",
       "      <td>Asia</td>\n",
       "      <td>AFG</td>\n",
       "      <td>Afghanistan</td>\n",
       "      <td>NaN</td>\n",
       "      <td>33.0</td>\n",
       "      <td>65.0</td>\n",
       "      <td>2020-01-23</td>\n",
       "      <td>0</td>\n",
       "      <td>EMR</td>\n",
       "      <td>Eastern Mediterranean</td>\n",
       "      <td>Low income</td>\n",
       "      <td>WB_LI</td>\n",
       "      <td>2017.0</td>\n",
       "      <td>2018.0</td>\n",
       "    </tr>\n",
       "    <tr>\n",
       "      <td>2</td>\n",
       "      <td>Asia</td>\n",
       "      <td>AFG</td>\n",
       "      <td>Afghanistan</td>\n",
       "      <td>NaN</td>\n",
       "      <td>33.0</td>\n",
       "      <td>65.0</td>\n",
       "      <td>2020-01-24</td>\n",
       "      <td>0</td>\n",
       "      <td>EMR</td>\n",
       "      <td>Eastern Mediterranean</td>\n",
       "      <td>Low income</td>\n",
       "      <td>WB_LI</td>\n",
       "      <td>2017.0</td>\n",
       "      <td>2018.0</td>\n",
       "    </tr>\n",
       "    <tr>\n",
       "      <td>3</td>\n",
       "      <td>Asia</td>\n",
       "      <td>AFG</td>\n",
       "      <td>Afghanistan</td>\n",
       "      <td>NaN</td>\n",
       "      <td>33.0</td>\n",
       "      <td>65.0</td>\n",
       "      <td>2020-01-25</td>\n",
       "      <td>0</td>\n",
       "      <td>EMR</td>\n",
       "      <td>Eastern Mediterranean</td>\n",
       "      <td>Low income</td>\n",
       "      <td>WB_LI</td>\n",
       "      <td>2017.0</td>\n",
       "      <td>2018.0</td>\n",
       "    </tr>\n",
       "    <tr>\n",
       "      <td>4</td>\n",
       "      <td>Asia</td>\n",
       "      <td>AFG</td>\n",
       "      <td>Afghanistan</td>\n",
       "      <td>NaN</td>\n",
       "      <td>33.0</td>\n",
       "      <td>65.0</td>\n",
       "      <td>2020-01-26</td>\n",
       "      <td>0</td>\n",
       "      <td>EMR</td>\n",
       "      <td>Eastern Mediterranean</td>\n",
       "      <td>Low income</td>\n",
       "      <td>WB_LI</td>\n",
       "      <td>2017.0</td>\n",
       "      <td>2018.0</td>\n",
       "    </tr>\n",
       "  </tbody>\n",
       "</table>\n",
       "</div>"
      ],
      "text/plain": [
       "  continent iso3c country_region province_state   lat   lon          ts  \\\n",
       "0      Asia   AFG    Afghanistan            NaN  33.0  65.0  2020-01-22   \n",
       "1      Asia   AFG    Afghanistan            NaN  33.0  65.0  2020-01-23   \n",
       "2      Asia   AFG    Afghanistan            NaN  33.0  65.0  2020-01-24   \n",
       "3      Asia   AFG    Afghanistan            NaN  33.0  65.0  2020-01-25   \n",
       "4      Asia   AFG    Afghanistan            NaN  33.0  65.0  2020-01-26   \n",
       "\n",
       "   confirmed who_region_code             who_region world_bank_income_group  \\\n",
       "0          0             EMR  Eastern Mediterranean              Low income   \n",
       "1          0             EMR  Eastern Mediterranean              Low income   \n",
       "2          0             EMR  Eastern Mediterranean              Low income   \n",
       "3          0             EMR  Eastern Mediterranean              Low income   \n",
       "4          0             EMR  Eastern Mediterranean              Low income   \n",
       "\n",
       "  world_bank_income_group_code  world_bank_income_group_gni_reference_year  \\\n",
       "0                        WB_LI                                      2017.0   \n",
       "1                        WB_LI                                      2017.0   \n",
       "2                        WB_LI                                      2017.0   \n",
       "3                        WB_LI                                      2017.0   \n",
       "4                        WB_LI                                      2017.0   \n",
       "\n",
       "   world_bank_income_group_release_date  \n",
       "0                                2018.0  \n",
       "1                                2018.0  \n",
       "2                                2018.0  \n",
       "3                                2018.0  \n",
       "4                                2018.0  "
      ]
     },
     "execution_count": 13,
     "metadata": {},
     "output_type": "execute_result"
    }
   ],
   "source": [
    "data.head()"
   ]
  },
  {
   "cell_type": "code",
   "execution_count": 14,
   "metadata": {},
   "outputs": [],
   "source": [
    "data1 = data.drop(['lat', 'lon'], axis=1)"
   ]
  },
  {
   "cell_type": "code",
   "execution_count": 15,
   "metadata": {},
   "outputs": [
    {
     "data": {
      "text/html": [
       "<div>\n",
       "<style scoped>\n",
       "    .dataframe tbody tr th:only-of-type {\n",
       "        vertical-align: middle;\n",
       "    }\n",
       "\n",
       "    .dataframe tbody tr th {\n",
       "        vertical-align: top;\n",
       "    }\n",
       "\n",
       "    .dataframe thead th {\n",
       "        text-align: right;\n",
       "    }\n",
       "</style>\n",
       "<table border=\"1\" class=\"dataframe\">\n",
       "  <thead>\n",
       "    <tr style=\"text-align: right;\">\n",
       "      <th></th>\n",
       "      <th>continent</th>\n",
       "      <th>iso3c</th>\n",
       "      <th>country_region</th>\n",
       "      <th>province_state</th>\n",
       "      <th>ts</th>\n",
       "      <th>confirmed</th>\n",
       "      <th>who_region_code</th>\n",
       "      <th>who_region</th>\n",
       "      <th>world_bank_income_group</th>\n",
       "      <th>world_bank_income_group_code</th>\n",
       "      <th>world_bank_income_group_gni_reference_year</th>\n",
       "      <th>world_bank_income_group_release_date</th>\n",
       "    </tr>\n",
       "  </thead>\n",
       "  <tbody>\n",
       "    <tr>\n",
       "      <td>0</td>\n",
       "      <td>Asia</td>\n",
       "      <td>AFG</td>\n",
       "      <td>Afghanistan</td>\n",
       "      <td>NaN</td>\n",
       "      <td>2020-01-22</td>\n",
       "      <td>0</td>\n",
       "      <td>EMR</td>\n",
       "      <td>Eastern Mediterranean</td>\n",
       "      <td>Low income</td>\n",
       "      <td>WB_LI</td>\n",
       "      <td>2017.0</td>\n",
       "      <td>2018.0</td>\n",
       "    </tr>\n",
       "    <tr>\n",
       "      <td>1</td>\n",
       "      <td>Asia</td>\n",
       "      <td>AFG</td>\n",
       "      <td>Afghanistan</td>\n",
       "      <td>NaN</td>\n",
       "      <td>2020-01-23</td>\n",
       "      <td>0</td>\n",
       "      <td>EMR</td>\n",
       "      <td>Eastern Mediterranean</td>\n",
       "      <td>Low income</td>\n",
       "      <td>WB_LI</td>\n",
       "      <td>2017.0</td>\n",
       "      <td>2018.0</td>\n",
       "    </tr>\n",
       "    <tr>\n",
       "      <td>2</td>\n",
       "      <td>Asia</td>\n",
       "      <td>AFG</td>\n",
       "      <td>Afghanistan</td>\n",
       "      <td>NaN</td>\n",
       "      <td>2020-01-24</td>\n",
       "      <td>0</td>\n",
       "      <td>EMR</td>\n",
       "      <td>Eastern Mediterranean</td>\n",
       "      <td>Low income</td>\n",
       "      <td>WB_LI</td>\n",
       "      <td>2017.0</td>\n",
       "      <td>2018.0</td>\n",
       "    </tr>\n",
       "    <tr>\n",
       "      <td>3</td>\n",
       "      <td>Asia</td>\n",
       "      <td>AFG</td>\n",
       "      <td>Afghanistan</td>\n",
       "      <td>NaN</td>\n",
       "      <td>2020-01-25</td>\n",
       "      <td>0</td>\n",
       "      <td>EMR</td>\n",
       "      <td>Eastern Mediterranean</td>\n",
       "      <td>Low income</td>\n",
       "      <td>WB_LI</td>\n",
       "      <td>2017.0</td>\n",
       "      <td>2018.0</td>\n",
       "    </tr>\n",
       "    <tr>\n",
       "      <td>4</td>\n",
       "      <td>Asia</td>\n",
       "      <td>AFG</td>\n",
       "      <td>Afghanistan</td>\n",
       "      <td>NaN</td>\n",
       "      <td>2020-01-26</td>\n",
       "      <td>0</td>\n",
       "      <td>EMR</td>\n",
       "      <td>Eastern Mediterranean</td>\n",
       "      <td>Low income</td>\n",
       "      <td>WB_LI</td>\n",
       "      <td>2017.0</td>\n",
       "      <td>2018.0</td>\n",
       "    </tr>\n",
       "  </tbody>\n",
       "</table>\n",
       "</div>"
      ],
      "text/plain": [
       "  continent iso3c country_region province_state          ts  confirmed  \\\n",
       "0      Asia   AFG    Afghanistan            NaN  2020-01-22          0   \n",
       "1      Asia   AFG    Afghanistan            NaN  2020-01-23          0   \n",
       "2      Asia   AFG    Afghanistan            NaN  2020-01-24          0   \n",
       "3      Asia   AFG    Afghanistan            NaN  2020-01-25          0   \n",
       "4      Asia   AFG    Afghanistan            NaN  2020-01-26          0   \n",
       "\n",
       "  who_region_code             who_region world_bank_income_group  \\\n",
       "0             EMR  Eastern Mediterranean              Low income   \n",
       "1             EMR  Eastern Mediterranean              Low income   \n",
       "2             EMR  Eastern Mediterranean              Low income   \n",
       "3             EMR  Eastern Mediterranean              Low income   \n",
       "4             EMR  Eastern Mediterranean              Low income   \n",
       "\n",
       "  world_bank_income_group_code  world_bank_income_group_gni_reference_year  \\\n",
       "0                        WB_LI                                      2017.0   \n",
       "1                        WB_LI                                      2017.0   \n",
       "2                        WB_LI                                      2017.0   \n",
       "3                        WB_LI                                      2017.0   \n",
       "4                        WB_LI                                      2017.0   \n",
       "\n",
       "   world_bank_income_group_release_date  \n",
       "0                                2018.0  \n",
       "1                                2018.0  \n",
       "2                                2018.0  \n",
       "3                                2018.0  \n",
       "4                                2018.0  "
      ]
     },
     "execution_count": 15,
     "metadata": {},
     "output_type": "execute_result"
    }
   ],
   "source": [
    "data1.head()"
   ]
  },
  {
   "cell_type": "code",
   "execution_count": 16,
   "metadata": {},
   "outputs": [],
   "source": [
    "data1 = data1.melt(id_vars=['province_state', 'country_region'],\n",
    "                  var_name='date', value_name='confirmed')\n",
    "data1 = data1.fillna('<all>')\n",
    "#data1['update'] = data1['update'].astype('datetime64[ns]')"
   ]
  },
  {
   "cell_type": "code",
   "execution_count": 17,
   "metadata": {},
   "outputs": [
    {
     "data": {
      "text/html": [
       "<div>\n",
       "<style scoped>\n",
       "    .dataframe tbody tr th:only-of-type {\n",
       "        vertical-align: middle;\n",
       "    }\n",
       "\n",
       "    .dataframe tbody tr th {\n",
       "        vertical-align: top;\n",
       "    }\n",
       "\n",
       "    .dataframe thead th {\n",
       "        text-align: right;\n",
       "    }\n",
       "</style>\n",
       "<table border=\"1\" class=\"dataframe\">\n",
       "  <thead>\n",
       "    <tr style=\"text-align: right;\">\n",
       "      <th></th>\n",
       "      <th>province_state</th>\n",
       "      <th>country_region</th>\n",
       "      <th>date</th>\n",
       "      <th>confirmed</th>\n",
       "    </tr>\n",
       "  </thead>\n",
       "  <tbody>\n",
       "    <tr>\n",
       "      <td>0</td>\n",
       "      <td>&lt;all&gt;</td>\n",
       "      <td>Afghanistan</td>\n",
       "      <td>continent</td>\n",
       "      <td>Asia</td>\n",
       "    </tr>\n",
       "    <tr>\n",
       "      <td>1</td>\n",
       "      <td>&lt;all&gt;</td>\n",
       "      <td>Afghanistan</td>\n",
       "      <td>continent</td>\n",
       "      <td>Asia</td>\n",
       "    </tr>\n",
       "    <tr>\n",
       "      <td>2</td>\n",
       "      <td>&lt;all&gt;</td>\n",
       "      <td>Afghanistan</td>\n",
       "      <td>continent</td>\n",
       "      <td>Asia</td>\n",
       "    </tr>\n",
       "    <tr>\n",
       "      <td>3</td>\n",
       "      <td>&lt;all&gt;</td>\n",
       "      <td>Afghanistan</td>\n",
       "      <td>continent</td>\n",
       "      <td>Asia</td>\n",
       "    </tr>\n",
       "    <tr>\n",
       "      <td>4</td>\n",
       "      <td>&lt;all&gt;</td>\n",
       "      <td>Afghanistan</td>\n",
       "      <td>continent</td>\n",
       "      <td>Asia</td>\n",
       "    </tr>\n",
       "  </tbody>\n",
       "</table>\n",
       "</div>"
      ],
      "text/plain": [
       "  province_state country_region       date confirmed\n",
       "0          <all>    Afghanistan  continent      Asia\n",
       "1          <all>    Afghanistan  continent      Asia\n",
       "2          <all>    Afghanistan  continent      Asia\n",
       "3          <all>    Afghanistan  continent      Asia\n",
       "4          <all>    Afghanistan  continent      Asia"
      ]
     },
     "execution_count": 17,
     "metadata": {},
     "output_type": "execute_result"
    }
   ],
   "source": [
    "data1.head()"
   ]
  },
  {
   "cell_type": "code",
   "execution_count": 18,
   "metadata": {},
   "outputs": [
    {
     "name": "stderr",
     "output_type": "stream",
     "text": [
      "C:\\Users\\KUSH\\Anaconda3\\lib\\site-packages\\pandas\\core\\indexing.py:1418: FutureWarning:\n",
      "\n",
      "\n",
      "Passing list-likes to .loc or [] with any missing label will raise\n",
      "KeyError in the future, you can use .reindex() as an alternative.\n",
      "\n",
      "See the documentation here:\n",
      "https://pandas.pydata.org/pandas-docs/stable/user_guide/indexing.html#deprecate-loc-reindex-listlike\n",
      "\n"
     ]
    }
   ],
   "source": [
    "df = pd.DataFrame(data)\n",
    "da =df.loc[:,['continent','country_region','province_state','confirmed','dead','recovered','ts']]"
   ]
  },
  {
   "cell_type": "markdown",
   "metadata": {},
   "source": [
    "###   Link for data extraction for COVID -19 Death cases "
   ]
  },
  {
   "cell_type": "code",
   "execution_count": 20,
   "metadata": {},
   "outputs": [],
   "source": [
    "url = 'https://raw.githubusercontent.com/jmcastagnetto/covid-19-data-cleanup/master/data/covid-19_ts_deaths.csv.gz'\n",
    "dfd = pd.read_csv(url, error_bad_lines=False)\n",
    "dsd=dfd.loc[df['country_region'] == 'India']\n"
   ]
  },
  {
   "cell_type": "code",
   "execution_count": 21,
   "metadata": {},
   "outputs": [
    {
     "data": {
      "text/plain": [
       "0.0"
      ]
     },
     "execution_count": 21,
     "metadata": {},
     "output_type": "execute_result"
    }
   ],
   "source": [
    "da['dead'].sum()"
   ]
  },
  {
   "cell_type": "code",
   "execution_count": 22,
   "metadata": {},
   "outputs": [
    {
     "data": {
      "text/plain": [
       "31194870"
      ]
     },
     "execution_count": 22,
     "metadata": {},
     "output_type": "execute_result"
    }
   ],
   "source": [
    "da['confirmed'].sum()"
   ]
  },
  {
   "cell_type": "code",
   "execution_count": 23,
   "metadata": {},
   "outputs": [],
   "source": [
    "ds=da.loc[da['country_region'].isin(['India','China','US','Italy','Spain','Germany','UK','Australia'])]\n",
    "#ds = ds.loc[da['continent']=='Asia']\n"
   ]
  },
  {
   "cell_type": "code",
   "execution_count": 24,
   "metadata": {},
   "outputs": [],
   "source": [
    "countries = df['country_region'].unique()\n",
    "dsc = ds.loc[:,['confirmed']]\n",
    "dsr = ds.loc[:,['recovered']]\n"
   ]
  },
  {
   "cell_type": "markdown",
   "metadata": {},
   "source": [
    "### Grouping country with  max confirmed "
   ]
  },
  {
   "cell_type": "code",
   "execution_count": 25,
   "metadata": {},
   "outputs": [],
   "source": [
    "sd=data.loc[data['country_region'].isin(['India','China','US','Italy','Spain','Germany','UK','Australia'])]\n",
    "ssd = sd.loc[:,['confirmed','country_region']]\n",
    "grp = ssd.groupby('country_region').agg({\n",
    "    'confirmed':'max'\n",
    "})\n",
    "#for groups in grp:"
   ]
  },
  {
   "cell_type": "markdown",
   "metadata": {},
   "source": [
    "### Country Set\n"
   ]
  },
  {
   "cell_type": "code",
   "execution_count": 26,
   "metadata": {},
   "outputs": [],
   "source": [
    "#coun= sd['country_region'].unique()\n",
    "coun = ['Australia','China','Germany','India','Italy','Spain','US']\n"
   ]
  },
  {
   "cell_type": "markdown",
   "metadata": {},
   "source": [
    "### Generating Graphs which can be display in DashBoard"
   ]
  },
  {
   "cell_type": "code",
   "execution_count": 27,
   "metadata": {},
   "outputs": [],
   "source": [
    "import plotly.graph_objs as go\n",
    "trace_close = go.Pie(labels=coun,\n",
    "                    values =grp['confirmed'].values  )\n",
    "grph = [trace_close]\n",
    "layout = dict( title=countries,\n",
    "                showlegend=False)\n",
    "fig = dict(data = grph, layout = layout)"
   ]
  },
  {
   "cell_type": "code",
   "execution_count": 28,
   "metadata": {},
   "outputs": [],
   "source": [
    "trace_close = go.Scatter(x=ds['ts'].unique(),\n",
    "                                   y =ds['confirmed']\n",
    "                                  )\n",
    "grap = [trace_close]\n",
    "layout = dict( title=countries,\n",
    "                showlegend=False)\n",
    "fig1 = dict(data = grap, layout = layout)"
   ]
  },
  {
   "cell_type": "markdown",
   "metadata": {},
   "source": [
    "###  Dash Plotply stylesheets , app and html "
   ]
  },
  {
   "cell_type": "code",
   "execution_count": 29,
   "metadata": {},
   "outputs": [],
   "source": [
    "external_stylesheets=['https://codepen.io/chriddyp/pen/bWLwgP.css']\n",
    "tickFont = {'size':12, 'color':\"rgb(30,30,30)\", \\\n",
    "            'family':\"Muli, monospace\"}"
   ]
  },
  {
   "cell_type": "code",
   "execution_count": 30,
   "metadata": {},
   "outputs": [],
   "source": [
    "app = dash.Dash(__name__, external_stylesheets=external_stylesheets)"
   ]
  },
  {
   "cell_type": "code",
   "execution_count": 31,
   "metadata": {},
   "outputs": [],
   "source": [
    "#dsc = dsc.loc[dsc['country_region']==update_output_div(input_value)]\n",
    "colors = {\n",
    "    'background': '#111111',\n",
    "    'text': '#7FDBFF'\n",
    "}"
   ]
  },
  {
   "cell_type": "code",
   "execution_count": 32,
   "metadata": {},
   "outputs": [],
   "source": [
    "app.layout = html.Div(\n",
    "    style={ 'font-family':\"Muli, monospace\"}, children=[\n",
    "        html.H1(children = 'COVID-19'),\n",
    "        html.H3(\n",
    "        html.Div(children= '''\n",
    "        COVID-19 : A web application\n",
    "        ''', )),\n",
    "         html.H5( 'Country'),\n",
    "         html.Div(id='my-div'),\n",
    "         dcc.Dropdown(\n",
    "            id='country',\n",
    "            options = [{'label':c, 'value':c}\n",
    "                      for c in coun],\n",
    "             value='Italy',\n",
    "            ),\n",
    "        \n",
    "        html.Div([\n",
    "            dcc.Graph(\n",
    "         id = 'COVID-19',\n",
    "            #figure= fig1\n",
    "        #figure = {\n",
    "         #    'data': [\n",
    "         #       {'x': ds['ts'].unique(), 'y':ds['confirmed'] , 'type': 'bar', 'name': 'Confirmed'},\n",
    "          #      {'x': ds['ts'].unique(), 'y':ds['recovered'], 'type': 'bar', 'name': 'Recovered'},\n",
    "           #     {'x': ds['ts'].unique(), 'y':ds['dead'], 'type': 'bar', 'name': 'Death'},\n",
    "           # ],\n",
    "            #'layout': {\n",
    "             #   'title': 'COVID-19 Data Visualization'\n",
    "            #}\n",
    "            \n",
    "        #}\n",
    "        ),\n",
    "        dcc.Graph( figure= fig\n",
    "                  )]),\n",
    "      #  dcc.Graph(\n",
    "       #  id = 'COVID-19da',\n",
    "       # figure = {\n",
    "        #     'data': [\n",
    "         #       {'x': da['ts'], 'y':da['confirmed'] , 'type': 'bar', 'name': 'Confirmed'},\n",
    "          #      {'x': da['ts'], 'y':da['recovered'], 'type': 'bar', 'name': 'Recovered'},\n",
    "           # ],\n",
    "            #'layout': {\n",
    "           #     'title': 'Dash Data Visualization'\n",
    "            #}\n",
    "        #}\n",
    "        #)\n",
    "                \n",
    "                 ]\n",
    "    \n",
    ")\n",
    "\n"
   ]
  },
  {
   "cell_type": "code",
   "execution_count": 33,
   "metadata": {},
   "outputs": [],
   "source": [
    "@app.callback(\n",
    "      dash.dependencies.Output('COVID-19','figure'),\n",
    "      [dash.dependencies.Input('country','value')]\n",
    ")\n",
    "def update_output_div(input_value):\n",
    "    dat = []\n",
    "\n",
    "    dsd = data.loc[data['country_region']==input_value]\n",
    "\n",
    "    trace_close = go.Bar(x=ds['ts'].unique(),\n",
    "                                   y =dsd['confirmed'].values\n",
    "                                  )\n",
    "    \n",
    "    dat.append(trace_close)\n",
    "    layout = dict( title=countries,\n",
    "                showlegend=False)\n",
    "    return {\n",
    "           'data':dat,\n",
    "           'layout':layout\n",
    "      }\n",
    "    \n",
    "      \n",
    "        \n"
   ]
  },
  {
   "cell_type": "code",
   "execution_count": 34,
   "metadata": {},
   "outputs": [
    {
     "name": "stdout",
     "output_type": "stream",
     "text": [
      " * Serving Flask app \"__main__\" (lazy loading)\n",
      " * Environment: production\n",
      "   WARNING: This is a development server. Do not use it in a production deployment.\n",
      "   Use a production WSGI server instead.\n",
      " * Debug mode: off\n"
     ]
    },
    {
     "name": "stderr",
     "output_type": "stream",
     "text": [
      " * Running on http://127.0.0.1:8050/ (Press CTRL+C to quit)\n",
      "127.0.0.1 - - [17/Apr/2020 00:32:32] \"\u001b[37mGET / HTTP/1.1\u001b[0m\" 200 -\n",
      "127.0.0.1 - - [17/Apr/2020 00:32:32] \"\u001b[37mGET /_dash-component-suites/dash_table/bundle.v4_6_1m1584893568.js HTTP/1.1\u001b[0m\" 200 -\n",
      "127.0.0.1 - - [17/Apr/2020 00:32:32] \"\u001b[37mGET /_dash-component-suites/dash_renderer/polyfill@7.v1_2_2m1584893555.7.0.min.js HTTP/1.1\u001b[0m\" 200 -\n",
      "127.0.0.1 - - [17/Apr/2020 00:32:32] \"\u001b[37mGET /_dash-component-suites/dash_renderer/prop-types@15.v1_2_2m1584893555.7.2.min.js HTTP/1.1\u001b[0m\" 200 -\n",
      "127.0.0.1 - - [17/Apr/2020 00:32:32] \"\u001b[37mGET /_dash-component-suites/dash_renderer/react-dom@16.v1_2_2m1584893556.8.6.min.js HTTP/1.1\u001b[0m\" 200 -\n",
      "127.0.0.1 - - [17/Apr/2020 00:32:32] \"\u001b[37mGET /_dash-component-suites/dash_renderer/react@16.v1_2_2m1584893556.8.6.min.js HTTP/1.1\u001b[0m\" 200 -\n",
      "127.0.0.1 - - [17/Apr/2020 00:32:32] \"\u001b[37mGET /_dash-component-suites/dash_html_components/dash_html_components.v1_0_2m1584893562.min.js HTTP/1.1\u001b[0m\" 200 -\n",
      "127.0.0.1 - - [17/Apr/2020 00:32:33] \"\u001b[37mGET /_dash-component-suites/dash_core_components/dash_core_components.v1_8_1m1584893558.min.js HTTP/1.1\u001b[0m\" 200 -\n",
      "127.0.0.1 - - [17/Apr/2020 00:32:33] \"\u001b[37mGET /_dash-component-suites/dash_core_components/dash_core_components-shared.v1_8_1m1584893558.js HTTP/1.1\u001b[0m\" 200 -\n",
      "127.0.0.1 - - [17/Apr/2020 00:32:33] \"\u001b[37mGET /_dash-component-suites/dash_renderer/dash_renderer.v1_2_2m1584893555.min.js HTTP/1.1\u001b[0m\" 200 -\n",
      "127.0.0.1 - - [17/Apr/2020 00:32:34] \"\u001b[37mGET /_dash-dependencies HTTP/1.1\u001b[0m\" 200 -\n",
      "127.0.0.1 - - [17/Apr/2020 00:32:34] \"\u001b[37mGET /_dash-layout HTTP/1.1\u001b[0m\" 200 -\n",
      "127.0.0.1 - - [17/Apr/2020 00:32:34] \"\u001b[37mGET /_favicon.ico?v=1.9.1 HTTP/1.1\u001b[0m\" 200 -\n",
      "127.0.0.1 - - [17/Apr/2020 00:32:35] \"\u001b[37mPOST /_dash-update-component HTTP/1.1\u001b[0m\" 200 -\n",
      "127.0.0.1 - - [17/Apr/2020 00:32:41] \"\u001b[37mPOST /_dash-update-component HTTP/1.1\u001b[0m\" 200 -\n",
      "127.0.0.1 - - [17/Apr/2020 00:32:49] \"\u001b[37mPOST /_dash-update-component HTTP/1.1\u001b[0m\" 200 -\n",
      "127.0.0.1 - - [17/Apr/2020 00:32:52] \"\u001b[37mPOST /_dash-update-component HTTP/1.1\u001b[0m\" 200 -\n",
      "127.0.0.1 - - [17/Apr/2020 00:33:01] \"\u001b[37mPOST /_dash-update-component HTTP/1.1\u001b[0m\" 200 -\n",
      "127.0.0.1 - - [17/Apr/2020 00:33:17] \"\u001b[37mPOST /_dash-update-component HTTP/1.1\u001b[0m\" 200 -\n"
     ]
    }
   ],
   "source": [
    "if __name__ == '__main__':\n",
    "    app.run_server(debug=False)"
   ]
  },
  {
   "cell_type": "code",
   "execution_count": null,
   "metadata": {},
   "outputs": [],
   "source": []
  },
  {
   "cell_type": "code",
   "execution_count": null,
   "metadata": {},
   "outputs": [],
   "source": []
  },
  {
   "cell_type": "code",
   "execution_count": null,
   "metadata": {},
   "outputs": [],
   "source": []
  },
  {
   "cell_type": "code",
   "execution_count": null,
   "metadata": {},
   "outputs": [],
   "source": []
  },
  {
   "cell_type": "code",
   "execution_count": null,
   "metadata": {},
   "outputs": [],
   "source": []
  }
 ],
 "metadata": {
  "kernelspec": {
   "display_name": "Python 3",
   "language": "python",
   "name": "python3"
  },
  "language_info": {
   "codemirror_mode": {
    "name": "ipython",
    "version": 3
   },
   "file_extension": ".py",
   "mimetype": "text/x-python",
   "name": "python",
   "nbconvert_exporter": "python",
   "pygments_lexer": "ipython3",
   "version": "3.7.4"
  }
 },
 "nbformat": 4,
 "nbformat_minor": 2
}
